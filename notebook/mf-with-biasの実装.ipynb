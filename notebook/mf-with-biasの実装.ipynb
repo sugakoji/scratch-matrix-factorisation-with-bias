{
 "cells": [
  {
   "cell_type": "code",
   "execution_count": 31,
   "metadata": {},
   "outputs": [],
   "source": [
    "import pandas as pd\n",
    "import numpy as np\n",
    "import matplotlib.pyplot as plt\n",
    "from IPython.display import display\n"
   ]
  },
  {
   "cell_type": "code",
   "execution_count": 2,
   "metadata": {},
   "outputs": [],
   "source": [
    "rating = np.array([\n",
    "    [5, 3, 0, 1],\n",
    "    [4, 0, 0, 1],\n",
    "    [1, 1, 0, 5],\n",
    "    [1, 0, 0, 4],\n",
    "    [0, 1, 5, 4],\n",
    "])"
   ]
  },
  {
   "cell_type": "code",
   "execution_count": 3,
   "metadata": {},
   "outputs": [
    {
     "data": {
      "text/plain": [
       "2.7692307692307692"
      ]
     },
     "execution_count": 3,
     "metadata": {},
     "output_type": "execute_result"
    }
   ],
   "source": [
    "np.mean(rating[rating > 0])"
   ]
  },
  {
   "cell_type": "code",
   "execution_count": 89,
   "metadata": {},
   "outputs": [],
   "source": [
    "class Matrix_Factorization():\n",
    "    def __init__(self, rating=None, components=2, eta=0.1, gamma=0.01,_iter=100):\n",
    "        self.rating = rating\n",
    "        self.eta = eta\n",
    "        self._iter = _iter\n",
    "        self.gamma = gamma\n",
    "\n",
    "        # 初期化\n",
    "        self.n_user, self.n_item = rating.shape\n",
    "        self.b_user = np.zeros(self.n_user)\n",
    "        self.b_item = np.zeros(self.n_item)\n",
    "        self.latent_user = np.random.normal(scale=1. / components,size=(self.n_user, components))\n",
    "        self.latent_item = np.random.normal(scale=1. / components,size=(components, self.n_item))\n",
    "        self.mu = np.mean(rating[rating > 0])\n",
    "\n",
    "        # 予測対象のインデックスを抜き出す\n",
    "        self.train_idx = [(i, j) for i in range(self.n_user) for j in\n",
    "                          range(self.n_item) if rating[i, j] > 0]\n",
    "\n",
    "    def get_current_rating(self):\n",
    "        mat_b_user = np.array(list(self.b_user) * self.n_item).reshape(self.n_item, self.n_user).T\n",
    "        mat_b_item = np.array(list(self.b_item) * self.n_user).reshape(self.n_user, self.n_item)\n",
    "        return self.mu + mat_b_user + mat_b_item + np.dot(self.latent_user,self.latent_item)\n",
    "\n",
    "    def get_error(self):\n",
    "        return self.rating[rating > 0] - self.get_current_rating()[rating > 0]\n",
    "\n",
    "    def get_mse(self):\n",
    "        return np.sqrt(np.mean((self.get_error()) ** 2))\n",
    "\n",
    "    def _svd(self, copy_idx):\n",
    "        for i in copy_idx:\n",
    "            user_idx, item_idx = self.train_idx[i]\n",
    "\n",
    "            self.b_user[user_idx] += self.eta * (self.get_error()[i] - self.gamma * self.b_user[user_idx])\n",
    "            self.b_item[item_idx] += self.eta * (self.get_error()[i] - self.gamma * self.b_item[item_idx])\n",
    "            \n",
    "            self.latent_user[user_idx] += self.eta * (self.get_error()[i] * self.latent_item[:,item_idx] - self.gamma * self.latent_user[user_idx])\n",
    "            self.latent_item[:, item_idx] += self.eta * (self.get_error()[i] * self.latent_user[user_idx] - self.gamma * self.latent_item[:, item_idx])\n",
    "\n",
    "    def fit(self):\n",
    "        self.mse = []\n",
    "        for _ in range(self._iter):\n",
    "            copy_idx = [i for i in range(len(self.train_idx))]\n",
    "            np.random.shuffle(copy_idx)\n",
    "            self._svd(copy_idx)\n",
    "            self.mse.append(self.get_mse())\n",
    "\n",
    "    def plot_mse(self):\n",
    "        fig = plt.figure(figsize=(12, 8))\n",
    "        ax = fig.add_subplot(111)\n",
    "        ax.plot([i for i in range(len(self.mse))], self.mse)\n",
    "        \n",
    "    def color_predict(self):\n",
    "        def _color(val, col ='red'):\n",
    "            color = col if val == 0 else 'black'\n",
    "            return 'color: %s' % color\n",
    "        \n",
    "        print(\"元の行列\")\n",
    "        original = pd.DataFrame(self.rating)\n",
    "        o = original.style.applymap(_color)\n",
    "        display(o)\n",
    "        print(\"*\"* 40)\n",
    "        print(\"バイアス項つきMF\")\n",
    "        display(pd.DataFrame(np.round(self.get_current_rating(),decimals=3)))\n",
    "        \n",
    "        \n",
    "\n",
    "        \n",
    "        \n"
   ]
  },
  {
   "cell_type": "code",
   "execution_count": 90,
   "metadata": {},
   "outputs": [],
   "source": [
    "instance = Matrix_Factorization(rating =rating)"
   ]
  },
  {
   "cell_type": "code",
   "execution_count": 91,
   "metadata": {
    "scrolled": true
   },
   "outputs": [],
   "source": [
    "instance.fit()"
   ]
  },
  {
   "cell_type": "code",
   "execution_count": null,
   "metadata": {},
   "outputs": [],
   "source": []
  },
  {
   "cell_type": "code",
   "execution_count": 92,
   "metadata": {},
   "outputs": [
    {
     "data": {
      "text/plain": [
       "array([[ 4.98256282,  3.00200698,  3.73761966,  1.01430326],\n",
       "       [ 3.99504974,  2.20010451,  3.57077775,  1.01034916],\n",
       "       [ 1.00963583,  1.00579716,  4.44310846,  4.97537551],\n",
       "       [ 1.0124342 ,  0.7365837 ,  3.96916704,  3.99088929],\n",
       "       [ 1.63641332,  1.01829898,  4.98464613,  3.99274803]])"
      ]
     },
     "execution_count": 92,
     "metadata": {},
     "output_type": "execute_result"
    }
   ],
   "source": [
    "instance.get_current_rating()"
   ]
  },
  {
   "cell_type": "code",
   "execution_count": 93,
   "metadata": {},
   "outputs": [
    {
     "data": {
      "text/plain": [
       "array([[5, 3, 0, 1],\n",
       "       [4, 0, 0, 1],\n",
       "       [1, 1, 0, 5],\n",
       "       [1, 0, 0, 4],\n",
       "       [0, 1, 5, 4]])"
      ]
     },
     "execution_count": 93,
     "metadata": {},
     "output_type": "execute_result"
    }
   ],
   "source": [
    "rating"
   ]
  },
  {
   "cell_type": "code",
   "execution_count": 94,
   "metadata": {},
   "outputs": [
    {
     "data": {
      "image/png": "[encoded data removed]",
      "text/plain": [
       "<matplotlib.figure.Figure at 0x11f1a37b8>"
      ]
     },
     "metadata": {
      "needs_background": "light"
     },
     "output_type": "display_data"
    }
   ],
   "source": [
    "instance.plot_mse()"
   ]
  },
  {
   "cell_type": "code",
   "execution_count": 95,
   "metadata": {},
   "outputs": [
    {
     "name": "stdout",
     "output_type": "stream",
     "text": [
      "元の行列\n"
     ]
    },
    {
     "data": {
      "text/html": [
       "<style  type=\"text/css\" >\n",
       "    #T_f579e576_8087_11e9_afe7_e0accb6822berow0_col0 {\n",
       "            color:  black;\n",
       "        }    #T_f579e576_8087_11e9_afe7_e0accb6822berow0_col1 {\n",
       "            color:  black;\n",
       "        }    #T_f579e576_8087_11e9_afe7_e0accb6822berow0_col2 {\n",
       "            color:  red;\n",
       "        }    #T_f579e576_8087_11e9_afe7_e0accb6822berow0_col3 {\n",
       "            color:  black;\n",
       "        }    #T_f579e576_8087_11e9_afe7_e0accb6822berow1_col0 {\n",
       "            color:  black;\n",
       "        }    #T_f579e576_8087_11e9_afe7_e0accb6822berow1_col1 {\n",
       "            color:  red;\n",
       "        }    #T_f579e576_8087_11e9_afe7_e0accb6822berow1_col2 {\n",
       "            color:  red;\n",
       "        }    #T_f579e576_8087_11e9_afe7_e0accb6822berow1_col3 {\n",
       "            color:  black;\n",
       "        }    #T_f579e576_8087_11e9_afe7_e0accb6822berow2_col0 {\n",
       "            color:  black;\n",
       "        }    #T_f579e576_8087_11e9_afe7_e0accb6822berow2_col1 {\n",
       "            color:  black;\n",
       "        }    #T_f579e576_8087_11e9_afe7_e0accb6822berow2_col2 {\n",
       "            color:  red;\n",
       "        }    #T_f579e576_8087_11e9_afe7_e0accb6822berow2_col3 {\n",
       "            color:  black;\n",
       "        }    #T_f579e576_8087_11e9_afe7_e0accb6822berow3_col0 {\n",
       "            color:  black;\n",
       "        }    #T_f579e576_8087_11e9_afe7_e0accb6822berow3_col1 {\n",
       "            color:  red;\n",
       "        }    #T_f579e576_8087_11e9_afe7_e0accb6822berow3_col2 {\n",
       "            color:  red;\n",
       "        }    #T_f579e576_8087_11e9_afe7_e0accb6822berow3_col3 {\n",
       "            color:  black;\n",
       "        }    #T_f579e576_8087_11e9_afe7_e0accb6822berow4_col0 {\n",
       "            color:  red;\n",
       "        }    #T_f579e576_8087_11e9_afe7_e0accb6822berow4_col1 {\n",
       "            color:  black;\n",
       "        }    #T_f579e576_8087_11e9_afe7_e0accb6822berow4_col2 {\n",
       "            color:  black;\n",
       "        }    #T_f579e576_8087_11e9_afe7_e0accb6822berow4_col3 {\n",
       "            color:  black;\n",
       "        }</style>  \n",
       "<table id=\"T_f579e576_8087_11e9_afe7_e0accb6822be\" > \n",
       "<thead>    <tr> \n",
       "        <th class=\"blank level0\" ></th> \n",
       "        <th class=\"col_heading level0 col0\" >0</th> \n",
       "        <th class=\"col_heading level0 col1\" >1</th> \n",
       "        <th class=\"col_heading level0 col2\" >2</th> \n",
       "        <th class=\"col_heading level0 col3\" >3</th> \n",
       "    </tr></thead> \n",
       "<tbody>    <tr> \n",
       "        <th id=\"T_f579e576_8087_11e9_afe7_e0accb6822belevel0_row0\" class=\"row_heading level0 row0\" >0</th> \n",
       "        <td id=\"T_f579e576_8087_11e9_afe7_e0accb6822berow0_col0\" class=\"data row0 col0\" >5</td> \n",
       "        <td id=\"T_f579e576_8087_11e9_afe7_e0accb6822berow0_col1\" class=\"data row0 col1\" >3</td> \n",
       "        <td id=\"T_f579e576_8087_11e9_afe7_e0accb6822berow0_col2\" class=\"data row0 col2\" >0</td> \n",
       "        <td id=\"T_f579e576_8087_11e9_afe7_e0accb6822berow0_col3\" class=\"data row0 col3\" >1</td> \n",
       "    </tr>    <tr> \n",
       "        <th id=\"T_f579e576_8087_11e9_afe7_e0accb6822belevel0_row1\" class=\"row_heading level0 row1\" >1</th> \n",
       "        <td id=\"T_f579e576_8087_11e9_afe7_e0accb6822berow1_col0\" class=\"data row1 col0\" >4</td> \n",
       "        <td id=\"T_f579e576_8087_11e9_afe7_e0accb6822berow1_col1\" class=\"data row1 col1\" >0</td> \n",
       "        <td id=\"T_f579e576_8087_11e9_afe7_e0accb6822berow1_col2\" class=\"data row1 col2\" >0</td> \n",
       "        <td id=\"T_f579e576_8087_11e9_afe7_e0accb6822berow1_col3\" class=\"data row1 col3\" >1</td> \n",
       "    </tr>    <tr> \n",
       "        <th id=\"T_f579e576_8087_11e9_afe7_e0accb6822belevel0_row2\" class=\"row_heading level0 row2\" >2</th> \n",
       "        <td id=\"T_f579e576_8087_11e9_afe7_e0accb6822berow2_col0\" class=\"data row2 col0\" >1</td> \n",
       "        <td id=\"T_f579e576_8087_11e9_afe7_e0accb6822berow2_col1\" class=\"data row2 col1\" >1</td> \n",
       "        <td id=\"T_f579e576_8087_11e9_afe7_e0accb6822berow2_col2\" class=\"data row2 col2\" >0</td> \n",
       "        <td id=\"T_f579e576_8087_11e9_afe7_e0accb6822berow2_col3\" class=\"data row2 col3\" >5</td> \n",
       "    </tr>    <tr> \n",
       "        <th id=\"T_f579e576_8087_11e9_afe7_e0accb6822belevel0_row3\" class=\"row_heading level0 row3\" >3</th> \n",
       "        <td id=\"T_f579e576_8087_11e9_afe7_e0accb6822berow3_col0\" class=\"data row3 col0\" >1</td> \n",
       "        <td id=\"T_f579e576_8087_11e9_afe7_e0accb6822berow3_col1\" class=\"data row3 col1\" >0</td> \n",
       "        <td id=\"T_f579e576_8087_11e9_afe7_e0accb6822berow3_col2\" class=\"data row3 col2\" >0</td> \n",
       "        <td id=\"T_f579e576_8087_11e9_afe7_e0accb6822berow3_col3\" class=\"data row3 col3\" >4</td> \n",
       "    </tr>    <tr> \n",
       "        <th id=\"T_f579e576_8087_11e9_afe7_e0accb6822belevel0_row4\" class=\"row_heading level0 row4\" >4</th> \n",
       "        <td id=\"T_f579e576_8087_11e9_afe7_e0accb6822berow4_col0\" class=\"data row4 col0\" >0</td> \n",
       "        <td id=\"T_f579e576_8087_11e9_afe7_e0accb6822berow4_col1\" class=\"data row4 col1\" >1</td> \n",
       "        <td id=\"T_f579e576_8087_11e9_afe7_e0accb6822berow4_col2\" class=\"data row4 col2\" >5</td> \n",
       "        <td id=\"T_f579e576_8087_11e9_afe7_e0accb6822berow4_col3\" class=\"data row4 col3\" >4</td> \n",
       "    </tr></tbody> \n",
       "</table> "
      ],
      "text/plain": [
       "<pandas.io.formats.style.Styler at 0x12021b7f0>"
      ]
     },
     "metadata": {},
     "output_type": "display_data"
    },
    {
     "name": "stdout",
     "output_type": "stream",
     "text": [
      "****************************************\n",
      "バイアス項つきMF\n"
     ]
    },
    {
     "data": {
      "text/html": [
       "<div>\n",
       "<style scoped>\n",
       "    .dataframe tbody tr th:only-of-type {\n",
       "        vertical-align: middle;\n",
       "    }\n",
       "\n",
       "    .dataframe tbody tr th {\n",
       "        vertical-align: top;\n",
       "    }\n",
       "\n",
       "    .dataframe thead th {\n",
       "        text-align: right;\n",
       "    }\n",
       "</style>\n",
       "<table border=\"1\" class=\"dataframe\">\n",
       "  <thead>\n",
       "    <tr style=\"text-align: right;\">\n",
       "      <th></th>\n",
       "      <th>0</th>\n",
       "      <th>1</th>\n",
       "      <th>2</th>\n",
       "      <th>3</th>\n",
       "    </tr>\n",
       "  </thead>\n",
       "  <tbody>\n",
       "    <tr>\n",
       "      <th>0</th>\n",
       "      <td>4.983</td>\n",
       "      <td>3.002</td>\n",
       "      <td>3.738</td>\n",
       "      <td>1.014</td>\n",
       "    </tr>\n",
       "    <tr>\n",
       "      <th>1</th>\n",
       "      <td>3.995</td>\n",
       "      <td>2.200</td>\n",
       "      <td>3.571</td>\n",
       "      <td>1.010</td>\n",
       "    </tr>\n",
       "    <tr>\n",
       "      <th>2</th>\n",
       "      <td>1.010</td>\n",
       "      <td>1.006</td>\n",
       "      <td>4.443</td>\n",
       "      <td>4.975</td>\n",
       "    </tr>\n",
       "    <tr>\n",
       "      <th>3</th>\n",
       "      <td>1.012</td>\n",
       "      <td>0.737</td>\n",
       "      <td>3.969</td>\n",
       "      <td>3.991</td>\n",
       "    </tr>\n",
       "    <tr>\n",
       "      <th>4</th>\n",
       "      <td>1.636</td>\n",
       "      <td>1.018</td>\n",
       "      <td>4.985</td>\n",
       "      <td>3.993</td>\n",
       "    </tr>\n",
       "  </tbody>\n",
       "</table>\n",
       "</div>"
      ],
      "text/plain": [
       "       0      1      2      3\n",
       "0  4.983  3.002  3.738  1.014\n",
       "1  3.995  2.200  3.571  1.010\n",
       "2  1.010  1.006  4.443  4.975\n",
       "3  1.012  0.737  3.969  3.991\n",
       "4  1.636  1.018  4.985  3.993"
      ]
     },
     "metadata": {},
     "output_type": "display_data"
    }
   ],
   "source": [
    "instance.color_predict()"
   ]
  },
  {
   "cell_type": "code",
   "execution_count": null,
   "metadata": {},
   "outputs": [],
   "source": []
  },
  {
   "cell_type": "code",
   "execution_count": null,
   "metadata": {},
   "outputs": [],
   "source": []
  },
  {
   "cell_type": "code",
   "execution_count": null,
   "metadata": {},
   "outputs": [],
   "source": []
  },
  {
   "cell_type": "code",
   "execution_count": null,
   "metadata": {},
   "outputs": [],
   "source": []
  }
 ],
 "metadata": {
  "kernelspec": {
   "display_name": "Python 3",
   "language": "python",
   "name": "python3"
  },
  "language_info": {
   "codemirror_mode": {
    "name": "ipython",
    "version": 3
   },
   "file_extension": ".py",
   "mimetype": "text/x-python",
   "name": "python",
   "nbconvert_exporter": "python",
   "pygments_lexer": "ipython3",
   "version": "3.6.8"
  },
  "toc": {
   "colors": {
    "hover_highlight": "#DAA520",
    "navigate_num": "#000000",
    "navigate_text": "#333333",
    "running_highlight": "#FF0000",
    "selected_highlight": "#FFD700",
    "sidebar_border": "#EEEEEE",
    "wrapper_background": "#FFFFFF"
   },
   "moveMenuLeft": true,
   "nav_menu": {
    "height": "12px",
    "width": "252px"
   },
   "navigate_menu": true,
   "number_sections": true,
   "sideBar": true,
   "threshold": 4,
   "toc_cell": false,
   "toc_section_display": "block",
   "toc_window_display": false,
   "widenNotebook": false
  }
 },
 "nbformat": 4,
 "nbformat_minor": 2
}
